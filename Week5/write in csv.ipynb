{
 "cells": [
  {
   "cell_type": "code",
   "execution_count": 1,
   "id": "91256c54",
   "metadata": {},
   "outputs": [],
   "source": [
    "import csv"
   ]
  },
  {
   "cell_type": "code",
   "execution_count": 2,
   "id": "4c30ad2f",
   "metadata": {},
   "outputs": [],
   "source": [
    "f=open('c:\\\\sqlite3\\\\csv\\\\student.csv','w',newline='')"
   ]
  },
  {
   "cell_type": "code",
   "execution_count": 3,
   "id": "fea3bf65",
   "metadata": {},
   "outputs": [],
   "source": [
    "w=csv.writer(f)"
   ]
  },
  {
   "cell_type": "code",
   "execution_count": 4,
   "id": "6366aad0",
   "metadata": {},
   "outputs": [
    {
     "data": {
      "text/plain": [
       "21"
      ]
     },
     "execution_count": 4,
     "metadata": {},
     "output_type": "execute_result"
    }
   ],
   "source": [
    "header=[\"ID\",\"NAME\",\"TOTAL MARKS\"]\n",
    "w.writerow(header)"
   ]
  },
  {
   "cell_type": "code",
   "execution_count": 5,
   "id": "3ab3d047",
   "metadata": {},
   "outputs": [],
   "source": [
    "row=[[1,\"om\",300],[2,\"sai\",400],[3,\"ram\",500]]\n",
    "w.writerows(row)"
   ]
  },
  {
   "cell_type": "code",
   "execution_count": 6,
   "id": "e9880695",
   "metadata": {},
   "outputs": [],
   "source": [
    "f.close()"
   ]
  },
  {
   "cell_type": "code",
   "execution_count": null,
   "id": "7df1bcf4",
   "metadata": {},
   "outputs": [],
   "source": []
  }
 ],
 "metadata": {
  "kernelspec": {
   "display_name": "Python 3 (ipykernel)",
   "language": "python",
   "name": "python3"
  },
  "language_info": {
   "codemirror_mode": {
    "name": "ipython",
    "version": 3
   },
   "file_extension": ".py",
   "mimetype": "text/x-python",
   "name": "python",
   "nbconvert_exporter": "python",
   "pygments_lexer": "ipython3",
   "version": "3.9.6"
  }
 },
 "nbformat": 4,
 "nbformat_minor": 5
}
